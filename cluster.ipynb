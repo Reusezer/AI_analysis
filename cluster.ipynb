{
 "cells": [
  {
   "cell_type": "code",
   "execution_count": 1,
   "id": "b1094602-f40c-4937-b2a0-fa756bbccc6c",
   "metadata": {},
   "outputs": [
    {
     "name": "stdout",
     "output_type": "stream",
     "text": []
    },
    {
     "data": {
      "text/plain": [
       "<Figure size 1000x600 with 2 Axes>"
      ]
     },
     "metadata": {},
     "output_type": "display_data"
    }
   ],
   "source": [
    "import pandas as pd\n",
    "import numpy as np\n",
    "from sklearn.preprocessing import StandardScaler\n",
    "from sklearn.decomposition import PCA\n",
    "from sklearn.cluster import KMeans\n",
    "import matplotlib.pyplot as plt\n",
    "\n",
    "# Ensure necessary packages are installed\n",
    "!pip install scikit-learn matplotlib\n",
    "\n",
    "# Load the CSV data\n",
    "file_path_csv = 'ここにファイルに入れてください（file pathです）'\n",
    "data_csv = pd.read_csv(file_path_csv)\n",
    "\n",
    "# Transposing the data to make models the instances\n",
    "model_data_csv = data_csv.set_index('Unnamed: 0').T\n",
    "\n",
    "# Standardizing the transposed data\n",
    "scaler_csv = StandardScaler()\n",
    "model_data_csv_scaled = scaler_csv.fit_transform(model_data_csv)\n",
    "\n",
    "# Apply PCA to the scaled data\n",
    "pca = PCA(n_components=2)  # You can adjust n_components to the number of components you want to consider\n",
    "pca_result = pca.fit_transform(model_data_csv_scaled)\n",
    "\n",
    "# Explained variance (contribution rate) and cumulative explained variance\n",
    "explained_variance = pca.explained_variance_ratio_\n",
    "cumulative_variance = np.cumsum(explained_variance)\n",
    "\n",
    "print(\"Explained Variance (Contribution Rates):\", explained_variance)\n",
    "print(\"Cumulative Explained Variance:\", cumulative_variance)\n",
    "\n",
    "# Applying k-means clustering to the PCA-transformed data with 4 clusters\n",
    "kmeans_csv = KMeans(n_clusters=4, random_state=0)\n",
    "clusters = kmeans_csv.fit_predict(pca_result)\n",
    "\n",
    "# Show the resulting clusters\n",
    "print(model_data_csv.reset_index().rename(columns={'index': 'Model'}))\n",
    "\n",
    "# Create a scatter plot to visualize the clusters using PCA results\n",
    "plt.figure(figsize=(10, 6))\n",
    "plt.scatter(pca_result[:, 0], pca_result[:, 1], c=clusters, cmap='viridis')\n",
    "plt.xlabel('Principal Component 1')\n",
    "plt.ylabel('Principal Component 2')\n",
    "plt.title('Cluster Visualization on PCA Results')\n",
    "plt.colorbar(label='Cluster')\n",
    "plt.show()"
   ]
  },
  {
   "cell_type": "code",
   "execution_count": 26,
   "id": "e876f3d4-6b1b-4928-a2ac-c5fba5f8c0f9",
   "metadata": {},
   "outputs": [
    {
     "data": {
      "text/plain": [
       "<Figure size 500x800 with 1 Axes>"
      ]
     },
     "metadata": {},
     "output_type": "display_data"
    }
   ],
   "source": [
    "import pandas as pd\n",
    "import numpy as np\n",
    "from sklearn.preprocessing import StandardScaler\n",
    "from sklearn.decomposition import PCA\n",
    "from sklearn.cluster import KMeans\n",
    "import matplotlib.pyplot as plt\n",
    "\n",
    "# Transposing the data to make models the instances\n",
    "model_data_csv = data_csv.set_index('Unnamed: 0').T\n",
    "\n",
    "# Standardizing the transposed data\n",
    "scaler_csv = StandardScaler()\n",
    "model_data_csv_scaled = scaler_csv.fit_transform(model_data_csv)\n",
    "\n",
    "# Apply PCA to the scaled data\n",
    "pca = PCA(n_components=2)\n",
    "pca_result = pca.fit_transform(model_data_csv_scaled)\n",
    "\n",
    "# K-means clustering\n",
    "kmeans_csv = KMeans(n_clusters=4, random_state=0)\n",
    "clusters = kmeans_csv.fit_predict(pca_result)\n",
    "\n",
    "# Include cluster labels in the data frame for clarity\n",
    "model_data_csv['Cluster'] = clusters\n",
    "\n",
    "# Define different markers for each cluster\n",
    "markers = ['o', 's', '^', '*']  # Circle, square, triangle up, star\n",
    "\n",
    "# Visualization\n",
    "plt.figure(figsize=(5, 8))\n",
    "for cluster in np.unique(clusters):\n",
    "    plt.scatter(pca_result[clusters == cluster, 0], pca_result[clusters == cluster, 1], marker=markers[cluster], label=f'Cluster {cluster}')\n",
    "    for i, txt in enumerate(model_data_csv.index[clusters == cluster]):\n",
    "        plt.annotate(txt, (pca_result[clusters == cluster, 0][i], pca_result[clusters == cluster, 1][i]), fontsize=18)  # Increase fontsize for annotations\n",
    "\n",
    "plt.xlabel('Principal Component 1', fontsize=12)  # Increase fontsize for X-axis label\n",
    "plt.ylabel('Principal Component 2', fontsize=12)  # Increase fontsize for Y-axis label\n",
    "plt.title('Cluster Visualization on PCA Results', fontsize=14)  # Increase fontsize for title\n",
    "plt.legend(fontsize=20)  # Increase fontsize for legend\n",
    "plt.show()\n",
    "\n"
   ]
  },
  {
   "cell_type": "code",
   "execution_count": 36,
   "id": "36eaf897-d5ee-469b-aede-b2706a62973b",
   "metadata": {},
   "outputs": [
    {
     "data": {
      "text/plain": [
       "<Figure size 500x800 with 1 Axes>"
      ]
     },
     "metadata": {},
     "output_type": "display_data"
    }
   ],
   "source": [
    "# Using the same setup as before, this code snippet will use manual cluster assignments.\n",
    "# Make sure to replace 'data_csv' with your actual loaded data.\n",
    "\n",
    "import pandas as pd\n",
    "import numpy as np\n",
    "from sklearn.preprocessing import StandardScaler\n",
    "from sklearn.decomposition import PCA\n",
    "import matplotlib.pyplot as plt\n",
    "\n",
    "# Assuming data_csv is already loaded as before and 'Unnamed: 0' is your index with model names\n",
    "model_data_csv = data_csv.set_index('Unnamed: 0').T\n",
    "\n",
    "# Standardizing the transposed data\n",
    "scaler_csv = StandardScaler()\n",
    "model_data_csv_scaled = scaler_csv.fit_transform(model_data_csv)\n",
    "\n",
    "# Apply PCA to the scaled data\n",
    "pca = PCA(n_components=2)\n",
    "pca_result = pca.fit_transform(model_data_csv_scaled)\n",
    "\n",
    "# Manually assign clusters based on the model names\n",
    "manual_clusters = {\n",
    "    'GPT3.5': 1, 'GPT4': 1,         # Cluster 1\n",
    "    'LLama2 70B': 2, 'Gemini-Pro': 2, # Cluster 2\n",
    "    'Claude': 3, 'BARD': 3, 'deepseek': 3, # Cluster 3\n",
    "    'Mistral AI': 4, 'pplx': 4       # Cluster 4\n",
    "}\n",
    "\n",
    "# Create a cluster array based on the manual assignments\n",
    "clusters = np.array([manual_clusters.get(model, 0) for model in model_data_csv.index])\n",
    "\n",
    "# Define different markers for each cluster\n",
    "markers = ['o', 's', '^', '*']  # Circle, square, triangle up, star\n",
    "\n",
    "# Visualization\n",
    "plt.figure(figsize=(5, 8))\n",
    "for cluster_num in np.unique(clusters):\n",
    "    # Identify indexes of rows in this cluster\n",
    "    idx = clusters == cluster_num\n",
    "    plt.scatter(pca_result[idx, 0], pca_result[idx, 1], \n",
    "                marker=markers[cluster_num-1], label=f'Cluster {cluster_num}')\n",
    "    # Annotate points with their model names\n",
    "    for i in np.where(idx)[0]:\n",
    "        plt.annotate(model_data_csv.index[i], \n",
    "                     (pca_result[i, 0], pca_result[i, 1]), \n",
    "                     fontsize=12)\n",
    "\n",
    "# Labeling the axes and title\n",
    "plt.xlabel('Principal Component 1', fontsize=12)\n",
    "plt.ylabel('Principal Component 2', fontsize=12)\n",
    "plt.title('Cluster Visualization on PCA Results', fontsize=14)\n",
    "\n",
    "# Showing legend and plot\n",
    "plt.legend(fontsize=10)\n",
    "plt.show()\n"
   ]
  },
  {
   "cell_type": "code",
   "execution_count": 5,
   "id": "292bb348-252e-4099-b0f7-08137bf3b759",
   "metadata": {},
   "outputs": [
    {
     "name": "stdout",
     "output_type": "stream",
     "text": []
    },
    {
     "data": {
     "text/plain": []
     },
     "metadata": {},
     "output_type": "display_data"
    },
    {
     "name": "stdout",
     "output_type": "stream",
     "text": []
    },
    {
     "data": {
      "text/plain": [
       "<Figure size 500x800 with 1 Axes>"
      ]
     },
     "metadata": {},
     "output_type": "display_data"
    }
   ],
   "source": [
    "import pandas as pd\n",
    "import numpy as np\n",
    "from sklearn.preprocessing import StandardScaler\n",
    "from sklearn.decomposition import PCA\n",
    "from sklearn.cluster import KMeans\n",
    "import matplotlib.pyplot as plt\n",
    "\n",
    "# Load the data\n",
    "data_csv = pd.read_csv(\"")\n",
    "\n",
    "# Transposing the data to make models the instances\n",
    "model_data_csv = data_csv.set_index('CEV').T\n",
    "\n",
    "# Standardizing the transposed data\n",
    "scaler_csv = StandardScaler()\n",
    "model_data_csv_scaled = scaler_csv.fit_transform(model_data_csv)\n",
    "\n",
    "# Apply PCA to the scaled data\n",
    "pca = PCA(n_components=2)\n",
    "pca_result = pca.fit_transform(model_data_csv_scaled)\n",
    "\n",
    "# Explained variance (contribution rate) and cumulative explained variance\n",
    "explained_variance = pca.explained_variance_ratio_\n",
    "cumulative_variance = np.cumsum(explained_variance)\n",
    "\n",
    "print(\"Explained Variance (Contribution Rates):\", explained_variance)\n",
    "\n",
    "# Finding the optimal number of clusters using the elbow method\n",
    "inertia = []\n",
    "k_range = range(1, 10)\n",
    "for k in k_range:\n",
    "    kmeans = KMeans(n_clusters=k, random_state=0)\n",
    "    kmeans.fit(pca_result)\n",
    "    inertia.append(kmeans.inertia_)\n",
    "    \n",
    "print(\"k_range:\", pca_result)\n",
    "# Elbow curve\n",
    "plt.figure(figsize=(8, 4))\n",
    "plt.plot(k_range, inertia, marker='o')\n",
    "plt.title('Elbow Method For Optimal k')\n",
    "plt.xlabel('Number of clusters')\n",
    "plt.ylabel('Inertia')\n",
    "plt.grid(True)\n",
    "plt.show()\n",
    "\n",
    "# K-means clustering with the optimal number of clusters\n",
    "optimal_k = 3  # Change based on elbow plot result\n",
    "kmeans_csv = KMeans(n_clusters=optimal_k, random_state=0)\n",
    "clusters = kmeans_csv.fit_predict(pca_result)\n",
    "model_data_csv['Cluster'] = clusters\n",
    "\n",
    "# Define different markers for each cluster\n",
    "markers = ['o', 's', '^']  # Circle, square, triangle up\n",
    "\n",
    "print(\"cluster;\", clusters)\n",
    "print(\"k_mean;\", kmeans_csv)\n",
    "\n",
    "# Visualization of clusters\n",
    "plt.figure(figsize=(5, 8))\n",
    "for cluster in np.unique(clusters):\n",
    "    plt.scatter(pca_result[clusters == cluster, 0], pca_result[clusters == cluster, 1], marker=markers[cluster], label=f'Cluster {cluster}')\n",
    "    for i, txt in enumerate(model_data_csv.index[clusters == cluster]):\n",
    "        plt.annotate(txt, (pca_result[clusters == cluster, 0][i], pca_result[clusters == cluster, 1][i]), fontsize=18)  # Increase fontsize for annotations\n",
    "\n",
    "plt.xlabel('Principal Component 1', fontsize=12)  # Increase fontsize for X-axis label\n",
    "plt.ylabel('Principal Component 2', fontsize=12)  # Increase fontsize for Y-axis label\n",
    "plt.title('Cluster Visualization on PCA Results', fontsize=14)  # Increase fontsize for title\n",
    "plt.legend(fontsize=20)  # Increase fontsize for legend\n",
    "plt.show()"
   ]
  },
  {
   "cell_type": "code",
   "execution_count": null,
   "id": "35813585-51f6-464b-b0d2-3ae65e14ec93",
   "metadata": {},
   "outputs": [],
   "source": []
  }
 ],
 "metadata": {
  "kernelspec": {
   "display_name": "Python 3 (ipykernel)",
   "language": "python",
   "name": "python3"
  },
  "language_info": {
   "codemirror_mode": {
    "name": "ipython",
    "version": 3
   },
   "file_extension": ".py",
   "mimetype": "text/x-python",
   "name": "python",
   "nbconvert_exporter": "python",
   "pygments_lexer": "ipython3",
   "version": "3.12.2"
  }
 },
 "nbformat": 4,
 "nbformat_minor": 5
}
