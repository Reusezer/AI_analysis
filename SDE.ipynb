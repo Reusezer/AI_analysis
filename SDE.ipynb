{
 "cells": [
  {
   "cell_type": "code",
   "execution_count": 15,
   "id": "f83fa81c-ab2f-4654-80f6-6496223aaaa3",
   "metadata": {},
   "outputs": [
    {
     "name": "stdout",
     "output_type": "stream",
     "text": []
    },
    {
     "data": {
      "text/plain": [
       "<Figure size 1200x600 with 1 Axes>"
      ]
     },
     "metadata": {},
     "output_type": "display_data"
    }
   ],
   "source": [
    "import pandas as pd\n",
    "\n",
    "# Load the dataset\n",
    "file_path = '<filename>",
    "\n",
    "df = pd.read_csv(file_path)\n",
    "\n",
    "import numpy as np\n",
    "import matplotlib.pyplot as plt\n",
    "\n",
    "def filter_columns_by_score_range(columns, score_range):\n",
    "    \"\"\"Filter columns based on a given score range.\"\"\"\n",
    "    return [col for col in columns if col.split('Score')[-1].isdigit() and int(col.split('Score')[-1]) in score_range]\n",
    "\n",
    "def calculate_sde(df, columns_range):\n",
    "    \"\"\"Calculate Symmetric Distance Error (SDE) for a set of columns without considering question numbers.\"\"\"\n",
    "    sde_scores = {}\n",
    "    \n",
    "    # Extract relevant columns\n",
    "    relevant_columns = [col for col in df.columns if \"Answer.\" in col and \"Score\" in col]\n",
    "    \n",
    "    # Filter out the 'Answer.total' columns\n",
    "    non_total_columns = [col for col in relevant_columns if \"totalScore\" not in col]\n",
    "    score_types = list(set([col.split('Score')[0].split('.')[-1] for col in non_total_columns]))\n",
    "    \n",
    "    # Filter columns related to the score range\n",
    "    filtered_columns = filter_columns_by_score_range(non_total_columns, columns_range)\n",
    "    \n",
    "    # Calculate the overall average score for the given range\n",
    "    all_scores = df[filtered_columns].values.flatten()\n",
    "    all_scores = all_scores[~np.isnan(all_scores)]  # Remove NaN values\n",
    "    overall_average = np.mean(all_scores)\n",
    "    print(\"overall score:\",overall_average)\n",
    "    \n",
    "    # Calculate the \"errors\" for each aspect (deviation from the overall average)\n",
    "    for score_type in score_types:\n",
    "        related_columns = [col for col in filtered_columns if f\"{score_type}Score\" in col]\n",
    "        if related_columns:\n",
    "            aspect_scores = df[related_columns].values.flatten()\n",
    "            aspect_scores = aspect_scores[~np.isnan(aspect_scores)]  # Remove NaN values\n",
    "            aspect_average = np.mean(aspect_scores)\n",
    "            error = aspect_average - overall_average  # \"Error\" as the deviation from the overall average\n",
    "            sde_scores[score_type] = error\n",
    "    \n",
    "    return sde_scores\n",
    "\n",
    "# Calculate SDE for questions 1-10\n",
    "sde_scores_1_10 = calculate_sde(df, range(1, 11))\n",
    "print(sde_scores_1_10)\n",
    "\n",
    "# Sort the score types based on deviation values to align with the plot\n",
    "sorted_score_types = sorted(sde_scores_1_10, key=sde_scores_1_10.get, reverse=True)\n",
    "\n",
    "# Plot the SDE \"errors\" for questions 1-10 with values displayed on top of the bars\n",
    "colors = ['green' if sde_scores_1_10[score] > 0 else 'red' for score in sorted_score_types]\n",
    "# Define the desired order of aspects\n",
    "aspect_order = ['relevance', 'assumptions', 'stereotyping', 'representationBias', 'neutrality']\n",
    "\n",
    "# Filter the sde_scores_1_10 dictionary to contain only the aspects in the desired order\n",
    "ordered_sde_scores = {aspect: sde_scores_1_10[aspect] for aspect in aspect_order if aspect in sde_scores_1_10}\n",
    "\n",
    "# Plot the SDE \"errors\" for questions 1-10 with values displayed on top of the bars in the specified order\n",
    "plt.figure(figsize=(12, 6))\n",
    "ordered_bars = plt.bar(ordered_sde_scores.keys(), ordered_sde_scores.values(), color=[colors[sorted_score_types.index(aspect)] for aspect in aspect_order])\n",
    "plt.axhline(0, color='black', linestyle='--')\n",
    "\n",
    "# Adding the text labels on top of the bars\n",
    "for bar in ordered_bars:\n",
    "    yval = bar.get_height()\n",
    "    plt.text(bar.get_x() + bar.get_width()/2.0, yval, round(yval, 4), va='bottom' if yval < 0 else 'top', ha='center')\n",
    "\n",
    "plt.title('Deviation from Overall Average for Selected Aspects in Desired Order')\n",
    "plt.ylabel('Deviation')\n",
    "plt.xticks(rotation=45)\n",
    "plt.tight_layout()  # Adjust layout to prevent clipping of tick-labels\n",
    "plt.grid(True)\n",
    "plt.show()\n"
   ]
  },
  {
   "cell_type": "code",
   "execution_count": null,
   "id": "fa749b26-b713-40cb-b5ed-24d4e3e96d4e",
   "metadata": {},
   "outputs": [],
   "source": []
  }
 ],
 "metadata": {
  "kernelspec": {
   "display_name": "Python 3 (ipykernel)",
   "language": "python",
   "name": "python3"
  },
  "language_info": {
   "codemirror_mode": {
    "name": "ipython",
    "version": 3
   },
   "file_extension": ".py",
   "mimetype": "text/x-python",
   "name": "python",
   "nbconvert_exporter": "python",
   "pygments_lexer": "ipython3",
   "version": "3.12.2"
  }
 },
 "nbformat": 4,
 "nbformat_minor": 5
}
