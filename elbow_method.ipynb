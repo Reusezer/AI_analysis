{
 "cells": [
  {
   "cell_type": "code",
   "execution_count": 1,
   "id": "1ed28988-2500-4003-8187-35cf2d794179",
   "metadata": {},
   "outputs": [
    {
     "data": {
      "text/plain": []
     },
     "execution_count": 1,
     "metadata": {},
     "output_type": "execute_result"
    }
   ],
   "source": [
    "import pandas as pd\n",
    "\n",
    "# Load the Excel file to examine its contents\n",
    "file_path_csv = '<filename>",
    "data = pd.read_csv(file_path_csv)\n",
    "\n",
    "# Display the first few rows of the dataset to understand its structure and contents\n",
    "data.head(), data.columns\n",
    "from sklearn.cluster import KMeans\n",
    "import numpy as np\n",
    "\n",
    "# Preparing the data for clustering\n",
    "data_clustering = data.set_index('Unnamed: 0').T  # Transpose to have models as rows and features as columns\n",
    "\n",
    "# Standardize the data\n",
    "from sklearn.preprocessing import StandardScaler\n",
    "scaler = StandardScaler()\n",
    "data_scaled = scaler.fit_transform(data_clustering)\n",
    "\n",
    "# Determine the optimal number of clusters using the Elbow method\n",
    "inertia = []\n",
    "k_values = range(1, 6)  # Testing from 1 to 5 clusters\n",
    "for k in k_values:\n",
    "    model = KMeans(n_clusters=k, random_state=42)\n",
    "    model.fit(data_scaled)\n",
    "    inertia.append(model.inertia_)\n",
    "\n",
    "inertia\n",
    "\n"
   ]
  },
  {
   "cell_type": "code",
   "execution_count": 2,
   "id": "e3d43888-ff84-4bf2-81a5-e2a81449646e",
   "metadata": {},
   "outputs": [
    {
     "data": {
      "text/html": [],
      "text/plain": []
     },
     "execution_count": 2,
     "metadata": {},
     "output_type": "execute_result"
    }
   ],
   "source": [
    "k2_model = KMeans(n_clusters=2, random_state=42)\n",
    "k3_model = KMeans(n_clusters=3, random_state=42)\n",
    "\n",
    "# Fitting the models\n",
    "clusters_k2 = k2_model.fit_predict(data_scaled)\n",
    "clusters_k3 = k3_model.fit_predict(data_scaled)\n",
    "\n",
    "# add cluster info and back/\n",
    "data_clustering['Cluster_2'] = clusters_k2\n",
    "data_clustering['Cluster_3'] = clusters_k3\n",
    "\n",
    "data_clustering[['Cluster_2', 'Cluster_3']]\n"
   ]
  },
  {
   "cell_type": "code",
   "execution_count": 7,
   "id": "525404ac-fa60-4175-89c3-a4e3c7b83d5c",
   "metadata": {},
   "outputs": [
    {
     "data": {
      "text/html": [],
      "text/plain": []
     },
     "execution_count": 7,
     "metadata": {},
     "output_type": "execute_result"
    }
   ],
   "source": [
    "# Excluding モデls\n",
    "data_clustering_excluded = data_clustering.drop(['BARD', 'GPT3.5'])\n",
    "\n",
    "# Standardize the data without GPT3.5 and GPT4\n",
    "data_scaled_excluded = scaler.fit_transform(data_clustering_excluded.iloc[:, :-2])\n",
    "\n",
    "# Apply K-means clustering with 2 and 3 clusters to see the new grouping\n",
    "clusters_k2_excluded = KMeans(n_clusters=2, random_state=42).fit_predict(data_scaled_excluded)\n",
    "clusters_k3_excluded = KMeans(n_clusters=3, random_state=42).fit_predict(data_scaled_excluded)\n",
    "\n",
    "# Adding the cluster information back to the dataframe for easy interpretation\n",
    "data_clustering_excluded['Cluster_2'] = clusters_k2_excluded\n",
    "data_clustering_excluded['Cluster_3'] = clusters_k3_excluded\n",
    "\n",
    "data_clustering_excluded[['Cluster_2', 'Cluster_3']]\n"
   ]
  },
  {
   "cell_type": "code",
   "execution_count": 9,
   "id": "077ac652-cf3b-4121-b9bb-ce1a078d3d1e",
   "metadata": {},
   "outputs": [
    {
     "data": {
      "text/plain": [
       "<Figure size 1000x600 with 1 Axes>"
      ]
     },
     "metadata": {},
     "output_type": "display_data"
    }
   ],
   "source": [
    "from sklearn.manifold import TSNE\n",
    "import matplotlib.pyplot as plt\n",
    "\n",
    "# Reducing the perplexity value because of the small number of samples (models)\n",
    "tsne = TSNE(n_components=2, perplexity=3, random_state=42)  # Adjusting perplexity to less than the number of models\n",
    "tsne_results = tsne.fit_transform(data_scaled)\n",
    "\n",
    "# adjusted perplexity\n",
    "plt.figure(figsize=(10, 6))\n",
    "for i, label in enumerate(data_clustering.index):\n",
    "    plt.scatter(tsne_results[i, 0], tsne_results[i, 1], label=label)\n",
    "plt.legend()\n",
    "plt.title('t-SNE Visualization of AI Models (Adjusted Perplexity)')\n",
    "plt.xlabel('t-SNE Component 1')\n",
    "plt.ylabel('t-SNE Component 2')\n",
    "plt.grid(True)\n",
    "plt.show()\n"
   ]
  },
  {
   "cell_type": "code",
   "execution_count": null,
   "id": "9f02bcdf-9302-4ce4-af52-c26979039bcf",
   "metadata": {},
   "outputs": [],
   "source": []
  }
 ],
 "metadata": {
  "kernelspec": {
   "display_name": "Python 3 (ipykernel)",
   "language": "python",
   "name": "python3"
  },
  "language_info": {
   "codemirror_mode": {
    "name": "ipython",
    "version": 3
   },
   "file_extension": ".py",
   "mimetype": "text/x-python",
   "name": "python",
   "nbconvert_exporter": "python",
   "pygments_lexer": "ipython3",
   "version": "3.12.2"
  }
 },
 "nbformat": 4,
 "nbformat_minor": 5
}
